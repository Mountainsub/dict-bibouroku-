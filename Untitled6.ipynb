{
  "nbformat": 4,
  "nbformat_minor": 0,
  "metadata": {
    "colab": {
      "name": "Untitled6.ipynb",
      "provenance": []
    },
    "kernelspec": {
      "name": "python3",
      "display_name": "Python 3"
    },
    "language_info": {
      "name": "python"
    }
  },
  "cells": [
    {
      "cell_type": "code",
      "metadata": {
        "id": "umrchL_yN4w3"
      },
      "source": [
        "from collections import Counter"
      ],
      "execution_count": 1,
      "outputs": []
    },
    {
      "cell_type": "code",
      "metadata": {
        "colab": {
          "base_uri": "https://localhost:8080/"
        },
        "id": "FWKwfZoBuB4r",
        "outputId": "21b07318-795b-4a06-d1a4-0862c9a20ca4"
      },
      "source": [
        "Counter([1,1,2,3,4,4,5])"
      ],
      "execution_count": 2,
      "outputs": [
        {
          "output_type": "execute_result",
          "data": {
            "text/plain": [
              "Counter({1: 2, 2: 1, 3: 1, 4: 2, 5: 1})"
            ]
          },
          "metadata": {
            "tags": []
          },
          "execution_count": 2
        }
      ]
    },
    {
      "cell_type": "code",
      "metadata": {
        "colab": {
          "base_uri": "https://localhost:8080/"
        },
        "id": "FHFVXwBFuOZT",
        "outputId": "d731bc66-6e90-4132-c17e-f9f8983ba427"
      },
      "source": [
        "Counter(\"Qiita\")"
      ],
      "execution_count": 3,
      "outputs": [
        {
          "output_type": "execute_result",
          "data": {
            "text/plain": [
              "Counter({'Q': 1, 'a': 1, 'i': 2, 't': 1})"
            ]
          },
          "metadata": {
            "tags": []
          },
          "execution_count": 3
        }
      ]
    },
    {
      "cell_type": "code",
      "metadata": {
        "colab": {
          "base_uri": "https://localhost:8080/"
        },
        "id": "Rv-jAFe7v_rT",
        "outputId": "7cf83a15-4e63-4df7-a262-b5b453d4c9ff"
      },
      "source": [
        "a = sorted(Counter(\"Qiita\"))\n",
        "print(a)"
      ],
      "execution_count": 9,
      "outputs": [
        {
          "output_type": "stream",
          "text": [
            "['Q', 'a', 'i', 't']\n"
          ],
          "name": "stdout"
        }
      ]
    },
    {
      "cell_type": "code",
      "metadata": {
        "colab": {
          "base_uri": "https://localhost:8080/"
        },
        "id": "HzVCYNMHwiqv",
        "outputId": "e5865c28-4ec2-475a-97bb-dad99a5214fa"
      },
      "source": [
        "from collections import defaultdict\n",
        "d = defaultdict(int)\n",
        "d[0]\n",
        "d = defaultdict(lambda:100)\n",
        "d[1]"
      ],
      "execution_count": 16,
      "outputs": [
        {
          "output_type": "execute_result",
          "data": {
            "text/plain": [
              "100"
            ]
          },
          "metadata": {
            "tags": []
          },
          "execution_count": 16
        }
      ]
    },
    {
      "cell_type": "code",
      "metadata": {
        "id": "rNYzWGouxa7D"
      },
      "source": [
        "d = dict()\n",
        "d[0]"
      ],
      "execution_count": null,
      "outputs": []
    },
    {
      "cell_type": "code",
      "metadata": {
        "colab": {
          "base_uri": "https://localhost:8080/"
        },
        "id": "guX4-t00yNmv",
        "outputId": "23ed3f4c-0126-4bfa-f2d0-8c830ebf5b91"
      },
      "source": [
        "from collections import OrderedDict\n",
        "o = OrderedDict()\n",
        "o['first'] = 1\n",
        "o['second'] = 2\n",
        "o"
      ],
      "execution_count": 18,
      "outputs": [
        {
          "output_type": "execute_result",
          "data": {
            "text/plain": [
              "OrderedDict([('first', 1), ('second', 2)])"
            ]
          },
          "metadata": {
            "tags": []
          },
          "execution_count": 18
        }
      ]
    },
    {
      "cell_type": "code",
      "metadata": {
        "colab": {
          "base_uri": "https://localhost:8080/",
          "height": 70
        },
        "id": "DY0F1fxdzDG3",
        "outputId": "fbcb754b-eed5-497c-d66e-6a0e32f2125e"
      },
      "source": [
        "from collections import ChainMap\n",
        "class DictLike(dict):\n",
        "  def __missing__(self, key):\n",
        "    return key\n",
        "  def __repr__(self):\n",
        "    return 'DictLike()'\n",
        "\n",
        "dict_like = DictLike()\n",
        "dict_like['unknown']\n",
        "\n",
        "c = ChainMap({1:2, 3:4}, {5:6, 7:8})\n",
        "print(c)\n",
        "c = c.new_child(dict_like)\n",
        "print(c[3])\n",
        "c[3]\n",
        "c['unknown']"
      ],
      "execution_count": 24,
      "outputs": [
        {
          "output_type": "stream",
          "text": [
            "ChainMap({1: 2, 3: 4}, {5: 6, 7: 8})\n",
            "3\n"
          ],
          "name": "stdout"
        },
        {
          "output_type": "execute_result",
          "data": {
            "application/vnd.google.colaboratory.intrinsic+json": {
              "type": "string"
            },
            "text/plain": [
              "'unknown'"
            ]
          },
          "metadata": {
            "tags": []
          },
          "execution_count": 24
        }
      ]
    },
    {
      "cell_type": "code",
      "metadata": {
        "colab": {
          "base_uri": "https://localhost:8080/"
        },
        "id": "JmcHdbhd1yEp",
        "outputId": "ab347300-d068-4c8b-945e-80c641d8b9f0"
      },
      "source": [
        "from collections import deque\n",
        "d = deque([1,2,3,4]) \n",
        "d.pop()\n",
        "d.popleft()\n",
        "d\n",
        "d.appendleft(4)\n",
        "d.append(1)\n",
        "d"
      ],
      "execution_count": 29,
      "outputs": [
        {
          "output_type": "execute_result",
          "data": {
            "text/plain": [
              "deque([4, 2, 3, 1])"
            ]
          },
          "metadata": {
            "tags": []
          },
          "execution_count": 29
        }
      ]
    },
    {
      "cell_type": "code",
      "metadata": {
        "colab": {
          "base_uri": "https://localhost:8080/"
        },
        "id": "nP0PlGPK2paM",
        "outputId": "24b58a0a-9820-42e6-fbdc-06cac1125b57"
      },
      "source": [
        "from collections import namedtuple\n",
        "N = namedtuple('Fruit', ['apple', 'grape'])\n",
        "N(*[1,2])\n",
        "n=N(*[1,2])\n",
        "n\n",
        "n.apple"
      ],
      "execution_count": 35,
      "outputs": [
        {
          "output_type": "execute_result",
          "data": {
            "text/plain": [
              "1"
            ]
          },
          "metadata": {
            "tags": []
          },
          "execution_count": 35
        }
      ]
    }
  ]
}